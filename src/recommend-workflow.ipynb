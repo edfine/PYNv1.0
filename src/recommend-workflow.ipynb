{
 "cells": [
  {
   "cell_type": "markdown",
   "metadata": {},
   "source": [
    "# Recommender workflow\n",
    "\n",
    "To run the recommender, run the following notebooks in the given order\n",
    "\n",
    "## Split test/train\n",
    "\n",
    "- train-test-split\n",
    "\n",
    "## Training\n",
    "\n",
    "- score-events\n",
    "- get-interesting-scores\n",
    "- encode-ids\n",
    "- fit-scoring-model\n",
    "\n",
    "## Prediction\n",
    "\n",
    "- predict-scores\n",
    "- recommend-items"
   ]
  }
 ],
 "metadata": {
  "kernelspec": {
   "display_name": "Python 3",
   "language": "python",
   "name": "python3"
  },
  "language_info": {
   "codemirror_mode": {
    "name": "ipython",
    "version": 3
   },
   "file_extension": ".py",
   "mimetype": "text/x-python",
   "name": "python",
   "nbconvert_exporter": "python",
   "pygments_lexer": "ipython3",
   "version": "3.7.2"
  }
 },
 "nbformat": 4,
 "nbformat_minor": 2
}
