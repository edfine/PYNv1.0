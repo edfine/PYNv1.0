{
 "cells": [
  {
   "cell_type": "code",
   "execution_count": 98,
   "metadata": {},
   "outputs": [],
   "source": [
    "%matplotlib inline\n",
    "import pandas as pd\n",
    "import numpy as np\n",
    "import matplotlib.pyplot as plt\n",
    "from scipy import sparse\n",
    "from sklearn import neighbors"
   ]
  },
  {
   "cell_type": "markdown",
   "metadata": {},
   "source": [
    "# Set params"
   ]
  },
  {
   "cell_type": "code",
   "execution_count": 99,
   "metadata": {},
   "outputs": [],
   "source": [
    "N_NEIGHBORS = 25"
   ]
  },
  {
   "cell_type": "code",
   "execution_count": 100,
   "metadata": {},
   "outputs": [
    {
     "data": {
      "text/html": [
       "<div>\n",
       "<style scoped>\n",
       "    .dataframe tbody tr th:only-of-type {\n",
       "        vertical-align: middle;\n",
       "    }\n",
       "\n",
       "    .dataframe tbody tr th {\n",
       "        vertical-align: top;\n",
       "    }\n",
       "\n",
       "    .dataframe thead th {\n",
       "        text-align: right;\n",
       "    }\n",
       "</style>\n",
       "<table border=\"1\" class=\"dataframe\">\n",
       "  <thead>\n",
       "    <tr style=\"text-align: right;\">\n",
       "      <th></th>\n",
       "      <th>visitorid</th>\n",
       "      <th>itemid</th>\n",
       "      <th>score</th>\n",
       "      <th>iid</th>\n",
       "    </tr>\n",
       "  </thead>\n",
       "  <tbody>\n",
       "    <tr>\n",
       "      <th>0</th>\n",
       "      <td>75</td>\n",
       "      <td>257575</td>\n",
       "      <td>25</td>\n",
       "      <td>7400</td>\n",
       "    </tr>\n",
       "    <tr>\n",
       "      <th>1</th>\n",
       "      <td>172</td>\n",
       "      <td>10034</td>\n",
       "      <td>20</td>\n",
       "      <td>266</td>\n",
       "    </tr>\n",
       "    <tr>\n",
       "      <th>2</th>\n",
       "      <td>172</td>\n",
       "      <td>465522</td>\n",
       "      <td>23</td>\n",
       "      <td>13389</td>\n",
       "    </tr>\n",
       "    <tr>\n",
       "      <th>3</th>\n",
       "      <td>186</td>\n",
       "      <td>49029</td>\n",
       "      <td>17</td>\n",
       "      <td>1369</td>\n",
       "    </tr>\n",
       "    <tr>\n",
       "      <th>4</th>\n",
       "      <td>264</td>\n",
       "      <td>161949</td>\n",
       "      <td>17</td>\n",
       "      <td>4567</td>\n",
       "    </tr>\n",
       "  </tbody>\n",
       "</table>\n",
       "</div>"
      ],
      "text/plain": [
       "   visitorid  itemid  score    iid\n",
       "0         75  257575     25   7400\n",
       "1        172   10034     20    266\n",
       "2        172  465522     23  13389\n",
       "3        186   49029     17   1369\n",
       "4        264  161949     17   4567"
      ]
     },
     "execution_count": 100,
     "metadata": {},
     "output_type": "execute_result"
    }
   ],
   "source": [
    "dat = pd.read_csv('../data/retailrocket-recommender-system-dataset/train-scores-encoded.csv')\n",
    "dat.head()"
   ]
  },
  {
   "cell_type": "code",
   "execution_count": 102,
   "metadata": {},
   "outputs": [
    {
     "data": {
      "text/plain": [
       "visitorid  iid  \n",
       "75         7400     25\n",
       "172        266      20\n",
       "           13389    23\n",
       "186        1369     17\n",
       "264        4567     17\n",
       "Name: score, dtype: int64"
      ]
     },
     "execution_count": 102,
     "metadata": {},
     "output_type": "execute_result"
    }
   ],
   "source": [
    "scores = dat.groupby('visitorid iid'.split()).score.sum()\n",
    "scores.head()"
   ]
  },
  {
   "cell_type": "markdown",
   "metadata": {},
   "source": [
    "# Format into a sklearn feature matrix"
   ]
  },
  {
   "cell_type": "code",
   "execution_count": 111,
   "metadata": {},
   "outputs": [
    {
     "data": {
      "text/plain": [
       "FrozenNDArray([0, 1, 1, 2, 3, 3, 4, 5, 6, 7, 8, 9, 10, 11, 12, 13, 14, 14, 15, 16, 16, 17, 18, 19, 19, 20, 21, 22, 23, 24, 25, 26, 27, 28, 29, 30, 31, 32, 33, 34, 35, 35, 36, 37, 38, 39, 39, 40, 41, 41, 41, 42, 43, 44, 45, 46, 46, 46, 47, 48, 49, 49, 49, 49, 50, 51, 52, 53, 54, 55, 56, 56, 57, 57, 58, 59, 60, 60, 61, 62, 63, 64, 65, 66, 67, 68, 68, 69, 70, 71, 72, 73, 74, 75, 76, 77, 77, 77, 77, 78, ...], dtype='int16')"
      ]
     },
     "execution_count": 111,
     "metadata": {},
     "output_type": "execute_result"
    }
   ],
   "source": [
    "scores.index.codes[0]"
   ]
  },
  {
   "cell_type": "code",
   "execution_count": 112,
   "metadata": {},
   "outputs": [
    {
     "data": {
      "text/plain": [
       "FrozenNDArray([7400, 266, 13389, 1369, 4567, 13244, 8279, 504, 11475, 2685, 11998, 7043, 5891, 11089, 12423, 6976, 26, 590, 8649, 4935, 11042, 9493, 2667, 11415, 12864, 3904, 8919, 11674, 2475, 11436, 5144, 11960, 10097, 5177, 10424, 2336, 6883, 3104, 385, 9507, 9861, 10006, 9799, 1258, 2776, 504, 10211, 198, 221, 3263, 12523, 6291, 715, 11253, 11815, 5306, 9321, 9636, 4864, 1946, 2999, 4787, 6516, 11641, 6616, 2803, 9823, 7423, 4851, 4671, 2137, 3206, 3918, 10758, 9470, 1278, 3607, 3923, 2915, 6900, 1035, 3328, 12214, 5128, 900, 5270, 8550, 10977, 8508, 3684, 13045, 205, 4479, 8052, 10440, 1809, 3094, 8353, 10959, 1401, ...], dtype='int16')"
      ]
     },
     "execution_count": 112,
     "metadata": {},
     "output_type": "execute_result"
    }
   ],
   "source": [
    "scores.index.codes[1]"
   ]
  },
  {
   "cell_type": "code",
   "execution_count": 113,
   "metadata": {},
   "outputs": [
    {
     "data": {
      "text/plain": [
       "Int64Index([     75,     172,     186,     264,     270,     419,     420,\n",
       "                539,     627,     745,\n",
       "            ...\n",
       "            1263992, 1264026, 1264132, 1264213, 1264264, 1264334, 1264440,\n",
       "            1264468, 1264709, 1264860],\n",
       "           dtype='int64', name='visitorid', length=14535)"
      ]
     },
     "execution_count": 113,
     "metadata": {},
     "output_type": "execute_result"
    }
   ],
   "source": [
    "scores.index.levels[0]"
   ]
  },
  {
   "cell_type": "code",
   "execution_count": 114,
   "metadata": {},
   "outputs": [
    {
     "data": {
      "text/plain": [
       "Int64Index([    0,     1,     2,     3,     4,     5,     6,     7,     8,\n",
       "                9,\n",
       "            ...\n",
       "            13418, 13419, 13420, 13421, 13422, 13423, 13424, 13425, 13426,\n",
       "            13427],\n",
       "           dtype='int64', name='iid', length=13428)"
      ]
     },
     "execution_count": 114,
     "metadata": {},
     "output_type": "execute_result"
    }
   ],
   "source": [
    "scores.index.levels[1]"
   ]
  },
  {
   "cell_type": "code",
   "execution_count": 103,
   "metadata": {},
   "outputs": [
    {
     "data": {
      "text/plain": [
       "array([[0., 0., 0., ..., 0., 0., 0.],\n",
       "       [0., 0., 0., ..., 0., 0., 0.],\n",
       "       [0., 0., 0., ..., 0., 0., 0.],\n",
       "       ...,\n",
       "       [0., 0., 0., ..., 0., 0., 0.],\n",
       "       [0., 0., 0., ..., 0., 0., 0.],\n",
       "       [0., 0., 0., ..., 0., 0., 0.]])"
      ]
     },
     "execution_count": 103,
     "metadata": {},
     "output_type": "execute_result"
    }
   ],
   "source": [
    "X_shape = (\n",
    "    len(scores.index.levels[0]),\n",
    "    len(scores.index.levels[1]),\n",
    ")\n",
    "X = np.zeros(shape=X_shape)\n",
    "X[scores.index.codes[0], scores.index.codes[1]] = scores.values\n",
    "X"
   ]
  },
  {
   "cell_type": "code",
   "execution_count": 104,
   "metadata": {},
   "outputs": [
    {
     "data": {
      "text/plain": [
       "(14535, 13428)"
      ]
     },
     "execution_count": 104,
     "metadata": {},
     "output_type": "execute_result"
    }
   ],
   "source": [
    "X.shape"
   ]
  },
  {
   "cell_type": "code",
   "execution_count": 105,
   "metadata": {},
   "outputs": [],
   "source": [
    "from sklearn import metrics\n",
    "model = neighbors.KNeighborsRegressor(metric='cosine', n_neighbors=N_NEIGHBORS)"
   ]
  },
  {
   "cell_type": "code",
   "execution_count": 106,
   "metadata": {},
   "outputs": [
    {
     "name": "stdout",
     "output_type": "stream",
     "text": [
      "MSE: 0.050003230297762595\n",
      "CPU times: user 4.05 s, sys: 1.9 s, total: 5.95 s\n",
      "Wall time: 4.5 s\n"
     ]
    }
   ],
   "source": [
    "%%time\n",
    "model.fit(X[:1460], X[:1460])\n",
    "ypred = model.predict(X[:1460])\n",
    "print(f'MSE: {metrics.mean_squared_error(X[:1460], ypred)}')"
   ]
  },
  {
   "cell_type": "code",
   "execution_count": 107,
   "metadata": {},
   "outputs": [],
   "source": [
    "Xsparse = sparse.csr_matrix(X)"
   ]
  },
  {
   "cell_type": "code",
   "execution_count": 108,
   "metadata": {},
   "outputs": [
    {
     "name": "stdout",
     "output_type": "stream",
     "text": [
      "MSE: 0.050003230297762595\n",
      "CPU times: user 1.79 s, sys: 1.58 s, total: 3.37 s\n",
      "Wall time: 3.53 s\n"
     ]
    }
   ],
   "source": [
    "%%time\n",
    "model.fit(Xsparse[:1460], X[:1460])\n",
    "ypred = model.predict(Xsparse[:1460])\n",
    "print(f'MSE: {metrics.mean_squared_error(X[:1460], ypred)}')"
   ]
  },
  {
   "cell_type": "markdown",
   "metadata": {},
   "source": [
    "# Store training data for kneighbors and just fit on load"
   ]
  },
  {
   "cell_type": "code",
   "execution_count": 110,
   "metadata": {},
   "outputs": [],
   "source": [
    "sparse.save_npz('../data/retailrocket-recommender-system-dataset/Xsparse.npz', Xsparse)"
   ]
  }
 ],
 "metadata": {
  "kernelspec": {
   "display_name": "Python 3",
   "language": "python",
   "name": "python3"
  },
  "language_info": {
   "codemirror_mode": {
    "name": "ipython",
    "version": 3
   },
   "file_extension": ".py",
   "mimetype": "text/x-python",
   "name": "python",
   "nbconvert_exporter": "python",
   "pygments_lexer": "ipython3",
   "version": "3.7.2"
  }
 },
 "nbformat": 4,
 "nbformat_minor": 2
}
